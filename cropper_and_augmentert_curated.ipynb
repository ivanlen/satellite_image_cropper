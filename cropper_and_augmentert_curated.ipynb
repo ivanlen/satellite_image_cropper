{
 "cells": [
  {
   "cell_type": "code",
   "execution_count": 1,
   "metadata": {},
   "outputs": [],
   "source": [
    "import itertools\n",
    "import os\n",
    "import PIL\n",
    "import numpy as np\n",
    "import matplotlib.pyplot as plt\n",
    "from PIL.ImageOps import flip, mirror\n",
    "from PIL import Image\n",
    "from tqdm import tqdm\n"
   ]
  },
  {
   "cell_type": "code",
   "execution_count": 29,
   "metadata": {},
   "outputs": [
    {
     "name": "stdout",
     "output_type": "stream",
     "text": [
      "118\n"
     ]
    }
   ],
   "source": [
    "valid_file_types = ['jpg']\n",
    "# folder_to_scan = '/data/datasets/earth_images/proc/' # done!\n",
    "folder_to_scan = '/data/datasets/earth_images/proc_sea/' # done!\n",
    "# folder_to_scan = '/data/datasets/mars_images/scrapped/'\n",
    "\n",
    "full_path_valid_files = [f'{folder_to_scan}/{f}' for f in os.listdir(folder_to_scan) if f.split('.')[-1] in valid_file_types]\n",
    "print(len(full_path_valid_files))\n"
   ]
  },
  {
   "cell_type": "code",
   "execution_count": 35,
   "metadata": {},
   "outputs": [],
   "source": [
    "def generate_1d_limits(wind, limit, thresh, offset=0, endset=0):\n",
    "    \"\"\"\n",
    "    thresh: 0 - 1: if we reach the lim and the new area is bigger than thresh we keep the last square\n",
    "    \"\"\"    \n",
    "    x_left = []\n",
    "    x_right = []\n",
    "    if endset:\n",
    "        limit = limit - endset\n",
    "    if limit >= wind:\n",
    "        x_lim_reached = False\n",
    "        i = 0\n",
    "        while not x_lim_reached:\n",
    "            x_l = i * wind + offset\n",
    "            x_r = (i + 1) * wind + offset\n",
    "\n",
    "            if x_r <= limit:\n",
    "                x_right.append(x_r)\n",
    "                x_left.append(x_l)\n",
    "            else:\n",
    "                x_lim_reached = True\n",
    "                # some extra padding\n",
    "                if (x_r - limit) / wind < thresh:\n",
    "                    x_r = limit\n",
    "                    x_l = limit - wind\n",
    "                    x_right.append(x_r)\n",
    "                    x_left.append(x_l)\n",
    "            i += 1\n",
    "    return (x_left, x_right)\n",
    "\n",
    "\n",
    "def generate_cropping_boxes_from_limits(x_left, x_rigth, x_bottom, x_top):\n",
    "    croping_boxes = []\n",
    "    x_lims = [(x_l, x_r) for x_l, x_r in zip(x_left, x_rigth)]\n",
    "    y_lims = [(x_l, x_r) for x_l, x_r in zip(x_bottom, x_top)]\n",
    "    bounding_boxes = list(itertools.product(x_lims, y_lims))\n",
    "    for i in range(len(bounding_boxes)):\n",
    "        ((x1, x2), (y1, y2)) = bounding_boxes[i]\n",
    "        croping_boxes.append((x1, y1, x2, y2))\n",
    "    return croping_boxes\n",
    "\n",
    "\n",
    "def generate_cropping_boxes(image, cropping_window, tresh, h_offset=0, v_offset=0, h_endset=0, v_endset=0):\n",
    "    image_width, image_height = image.size\n",
    "    x_left, x_rigth = generate_1d_limits(cropping_window, image_width, tresh, h_offset, h_endset)\n",
    "    x_bottom, x_top = generate_1d_limits(cropping_window, image_height, tresh, v_offset, v_endset)\n",
    "    croping_boxes = generate_cropping_boxes_from_limits(x_left, x_rigth, x_bottom, x_top)\n",
    "    return croping_boxes\n",
    "\n",
    "\n",
    "def image_square_resize(im_input, new_size):\n",
    "    im = im_input.copy()\n",
    "    im = im.resize((new_size, new_size), PIL.Image.ANTIALIAS)    \n",
    "    return im\n",
    "\n",
    "\n",
    "def image_rotator(im_input, angle):\n",
    "    if angle==90:\n",
    "        return im_input.transpose(Image.ROTATE_90) \n",
    "    elif angle == 180:\n",
    "        return im_input.transpose(Image.ROTATE_180) \n",
    "    elif angle == 270:\n",
    "        return im_input.transpose(Image.ROTATE_270) \n",
    "    else:\n",
    "        raise ValueError('angle not supported')    \n",
    "        \n",
    "        \n",
    "def image_augmentator(im_input, return_orig = True):\n",
    "    im_aug = []\n",
    "    if return_orig:\n",
    "        im_aug.append(im_input.copy())\n",
    "    # 1.flip\n",
    "    im_aug.append(im_input.copy().transpose(Image.ROTATE_90))\n",
    "    # \n",
    "#     im_aug.append(im_input.copy().transpose(Image.ROTATE_180))\n",
    "    # \n",
    "    # \n",
    "#     im_aug.append(im_input.copy().transpose(Image.ROTATE_270))\n",
    "    # \n",
    "    im_aug.append(im_input.copy().transpose(PIL.Image.FLIP_LEFT_RIGHT))\n",
    "    #\n",
    "    im_aug.append(im_input.copy().transpose(PIL.Image.FLIP_TOP_BOTTOM))\n",
    "    return im_aug    \n",
    "\n",
    "def proc_folder_name(fol, suffix='cropped'):\n",
    "    s = fol.split('/')\n",
    "    if s[-1] == '':\n",
    "        proc_f_name = '/'.join(s[:-1]) + f'_{suffix}/'\n",
    "        return proc_f_name\n",
    "    else:\n",
    "        proc_f_name = '/'.join(s[:]) + f'_{suffix}/'\n",
    "        return proc_f_name"
   ]
  },
  {
   "cell_type": "code",
   "execution_count": 36,
   "metadata": {},
   "outputs": [],
   "source": [
    "# class SizeCounter:\n",
    "#     def __init__(self):\n",
    "#         self.counter = {}\n",
    "    \n",
    "#     def add(self, size):\n",
    "#         try:\n",
    "#             self.counter[size]\n",
    "#             self.counter[size] +=1\n",
    "#         except KeyError:\n",
    "#             self.counter[size] = 1\n",
    "        "
   ]
  },
  {
   "cell_type": "code",
   "execution_count": 37,
   "metadata": {},
   "outputs": [],
   "source": [
    "# sizes = SizeCounter()\n",
    "# for file in full_path_valid_files:\n",
    "#     im = Image.open(file)\n",
    "#     sizes.add(size=im.size)\n",
    "    \n",
    "# # sizes.counter"
   ]
  },
  {
   "cell_type": "markdown",
   "metadata": {},
   "source": [
    "### No augmentation"
   ]
  },
  {
   "cell_type": "code",
   "execution_count": 38,
   "metadata": {},
   "outputs": [
    {
     "name": "stdout",
     "output_type": "stream",
     "text": [
      " saving files in /data/datasets/earth_images/proc_sea_cropped_256_augmentated/\n"
     ]
    }
   ],
   "source": [
    "# cropping_window = 512\n",
    "cropping_window = 256\n",
    "augmentate = True\n",
    "\n",
    "suffix = f'cropped_{cropping_window}'\n",
    "if augmentate:\n",
    "    suffix = f'{suffix}_augmentated'\n",
    "saving_folder_name = proc_folder_name(folder_to_scan, suffix=suffix)\n",
    "padding_tresh = 0.25\n",
    "resize = False\n",
    "image_output_size = 256\n",
    "print(f' saving files in {saving_folder_name}')\n",
    "os.makedirs(saving_folder_name, exist_ok=True)\n",
    "\n",
    "# to avoid black borders in Lansat 8 images\n",
    "# params = {\n",
    "#     'h_offset': 50,\n",
    "#     'h_endset': 50,\n",
    "#     'v_offset': 50,\n",
    "#     'v_endset': 50\n",
    "# }\n",
    "\n",
    "# mars\n",
    "params = {\n",
    "    'h_offset': 0,\n",
    "    'h_endset': 0,\n",
    "    'v_offset': 60,\n",
    "    'v_endset': 60\n",
    "}"
   ]
  },
  {
   "cell_type": "code",
   "execution_count": 39,
   "metadata": {},
   "outputs": [
    {
     "name": "stderr",
     "output_type": "stream",
     "text": [
      "100%|██████████| 118/118 [08:23<00:00,  4.26s/it]"
     ]
    },
    {
     "name": "stdout",
     "output_type": "stream",
     "text": [
      "282652\n"
     ]
    },
    {
     "name": "stderr",
     "output_type": "stream",
     "text": [
      "\n"
     ]
    }
   ],
   "source": [
    "counter = 0\n",
    "\n",
    "for fc, file in tqdm(enumerate(full_path_valid_files), total=len(full_path_valid_files)):\n",
    "    im = Image.open(file)\n",
    "    croping_boxes = generate_cropping_boxes(im, cropping_window, padding_tresh, **params) \n",
    "    file_name = os.path.basename(file)\n",
    "    base_name, file_ext = os.path.splitext(file_name)\n",
    "    for i,b in enumerate(croping_boxes):\n",
    "        counter +=1\n",
    "        try:\n",
    "            imc = im.crop(b) #[left bottom right upper]\n",
    "            if resize: \n",
    "                imc = image_square_resize(imc, image_output_size)\n",
    "            if augmentate:\n",
    "                imc_augs = image_augmentator(imc)\n",
    "                for ii, imcc in enumerate(imc_augs):\n",
    "                    f_name = saving_folder_name + base_name +'_{}_{}'.format(i, ii) + file_ext\n",
    "                    imcc.save(f_name)\n",
    "            else:\n",
    "                f_name = saving_folder_name + base_name +'_{}'.format(i) + file_ext\n",
    "                imc.save(f_name)\n",
    "        except:\n",
    "            print(i, file, 'error')\n",
    "print(len(os.listdir(saving_folder_name)))"
   ]
  },
  {
   "cell_type": "code",
   "execution_count": null,
   "metadata": {},
   "outputs": [],
   "source": []
  }
 ],
 "metadata": {
  "kernelspec": {
   "display_name": "Python 3",
   "language": "python",
   "name": "python3"
  },
  "language_info": {
   "codemirror_mode": {
    "name": "ipython",
    "version": 3
   },
   "file_extension": ".py",
   "mimetype": "text/x-python",
   "name": "python",
   "nbconvert_exporter": "python",
   "pygments_lexer": "ipython3",
   "version": "3.7.10"
  }
 },
 "nbformat": 4,
 "nbformat_minor": 2
}
