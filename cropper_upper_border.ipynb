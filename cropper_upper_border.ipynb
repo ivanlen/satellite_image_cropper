{
 "cells": [
  {
   "cell_type": "code",
   "execution_count": 1,
   "metadata": {},
   "outputs": [],
   "source": [
    "%load_ext autoreload\n",
    "%autoreload 2\n",
    "%matplotlib notebook"
   ]
  },
  {
   "cell_type": "code",
   "execution_count": 6,
   "metadata": {},
   "outputs": [],
   "source": [
    "from PIL import Image\n",
    "# import matplotlib.pyplot as plt\n",
    "import os\n",
    "# from cropping_functions import *\n",
    "# import numpy as np"
   ]
  },
  {
   "cell_type": "code",
   "execution_count": 7,
   "metadata": {},
   "outputs": [],
   "source": [
    "# from PIL.ImageOps import flip, mirror\n",
    "# import PIL"
   ]
  },
  {
   "cell_type": "code",
   "execution_count": 8,
   "metadata": {},
   "outputs": [],
   "source": [
    "folder_to_scan = '/Users/ivanlengyel/datasets/mars_new_2019_w_borders/'"
   ]
  },
  {
   "cell_type": "code",
   "execution_count": 9,
   "metadata": {},
   "outputs": [],
   "source": [
    "files = os.listdir(folder_to_scan)"
   ]
  },
  {
   "cell_type": "code",
   "execution_count": 10,
   "metadata": {},
   "outputs": [
    {
     "data": {
      "text/plain": [
       "133"
      ]
     },
     "execution_count": 10,
     "metadata": {},
     "output_type": "execute_result"
    }
   ],
   "source": [
    "len(files)"
   ]
  },
  {
   "cell_type": "code",
   "execution_count": 11,
   "metadata": {},
   "outputs": [],
   "source": [
    "valid_file_types = ['.jpg']\n",
    "valid_files = []\n",
    "for file in files:\n",
    "    f, fe = os.path.splitext(file)\n",
    "    if fe in valid_file_types:\n",
    "        valid_files.append(file)\n",
    "\n",
    "full_path_valid_files = [folder_to_scan + file for file in valid_files]\n"
   ]
  },
  {
   "cell_type": "code",
   "execution_count": 12,
   "metadata": {},
   "outputs": [],
   "source": [
    "saving_folder_name = './no_border/'"
   ]
  },
  {
   "cell_type": "code",
   "execution_count": 18,
   "metadata": {},
   "outputs": [],
   "source": [
    "for file_path in full_path_valid_files:\n",
    "\n",
    "    file_name = os.path.basename(file_path)\n",
    "    base_name, file_ext = os.path.splitext(file_name)\n",
    "    im = Image.open(file_path)\n",
    "\n",
    "    im_w = im.size[0]\n",
    "    im_h = im.size[1]\n",
    "    # delete superior border\n",
    "\n",
    "    imc = im.crop((0,40,im_w,im_h)) #left bottom right upper\n",
    "\n",
    "    f_name = saving_folder_name + base_name + file_ext\n",
    "    imc.save(f_name)\n",
    "    "
   ]
  },
  {
   "cell_type": "code",
   "execution_count": null,
   "metadata": {},
   "outputs": [],
   "source": []
  },
  {
   "cell_type": "code",
   "execution_count": null,
   "metadata": {},
   "outputs": [],
   "source": []
  },
  {
   "cell_type": "code",
   "execution_count": null,
   "metadata": {},
   "outputs": [],
   "source": []
  },
  {
   "cell_type": "code",
   "execution_count": null,
   "metadata": {},
   "outputs": [],
   "source": []
  },
  {
   "cell_type": "code",
   "execution_count": null,
   "metadata": {},
   "outputs": [],
   "source": []
  }
 ],
 "metadata": {
  "kernelspec": {
   "display_name": "testing-kernel",
   "language": "python",
   "name": "testing-kernel"
  },
  "language_info": {
   "codemirror_mode": {
    "name": "ipython",
    "version": 3
   },
   "file_extension": ".py",
   "mimetype": "text/x-python",
   "name": "python",
   "nbconvert_exporter": "python",
   "pygments_lexer": "ipython3",
   "version": "3.6.7"
  }
 },
 "nbformat": 4,
 "nbformat_minor": 2
}
